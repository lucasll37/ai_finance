{
 "cells": [
  {
   "cell_type": "code",
   "execution_count": 1,
   "metadata": {},
   "outputs": [],
   "source": [
    "import os\n",
    "import pandas as pd\n",
    "import numpy as np\n",
    "import matplotlib.pyplot as plt\n",
    "import seaborn as sns\n",
    "from sklearn.pipeline import Pipeline\n",
    "\n",
    "# import sys\n",
    "# from pathlib import Path\n",
    "# sys.path.append(str(Path().cwd().parent))\n",
    "\n",
    "from utils import MinMaxScaler, get_ticket, MakeTimeSeries\n",
    "from agent import Agent_xgb\n",
    "\n",
    "from indicators import SimpleMovingAverage, RelativeStrengthIndex, AwesomeOscillator, \\\n",
    "                       MovingAverageConvergenceDivergence, AverageDirectionalIndex, \\\n",
    "                       OnBalanceVolume, BollingerBands, IchimokuClouds, \\\n",
    "                        VolumeWeightedAveragePrice, ParabolicSAR, Aleatory, Trend"
   ]
  },
  {
   "cell_type": "code",
   "execution_count": 2,
   "metadata": {},
   "outputs": [],
   "source": [
    "download = True # False\n",
    "transform = True # False\n",
    "tickets = [\n",
    "    'ABEV3.SA', 'AZUL4.SA', 'B3SA3.SA', 'BBAS3.SA', 'BBDC3.SA', 'BBDC4.SA', 'BBSE3.SA', 'BEEF3.SA', 'BPAC11.SA', 'BRAP4.SA',\n",
    "    'BRFS3.SA', 'BRKM5.SA', 'CCRO3.SA', 'CIEL3.SA', 'CMIG4.SA', 'COGN3.SA', 'CPFE3.SA', 'CPLE6.SA', 'CRFB3.SA', 'CSAN3.SA',\n",
    "    'CSNA3.SA', 'CVCB3.SA', 'CYRE3.SA', 'ECOR3.SA', 'EGIE3.SA', 'ELET3.SA', 'ELET6.SA', 'EMBR3.SA', 'ENEV3.SA', 'ENGI11.SA',\n",
    "    'EQTL3.SA', 'EZTC3.SA', 'FLRY3.SA', 'GGBR4.SA', 'GOAU4.SA', 'GOLL4.SA', 'HAPV3.SA', 'HYPE3.SA', 'IRBR3.SA', 'ITSA4.SA',\n",
    "    'ITUB4.SA', 'JBSS3.SA', 'JHSF3.SA', 'KLBN11.SA', 'LREN3.SA', 'MGLU3.SA', 'MRFG3.SA', 'MRVE3.SA', 'MULT3.SA', 'NTCO3.SA',\n",
    "    'PCAR3.SA', 'PETR3.SA', 'PETR4.SA', 'PRIO3.SA', 'QUAL3.SA', 'RADL3.SA', 'RAIL3.SA', 'RENT3.SA', 'SANB11.SA', 'SBSP3.SA',\n",
    "    'SUZB3.SA', 'TAEE11.SA', 'TIMS3.SA', 'TOTS3.SA', 'UGPA3.SA', 'USIM5.SA', 'VALE3.SA', 'VIVT3.SA', 'WEGE3.SA', 'YDUQ3.SA'\n",
    "]"
   ]
  },
  {
   "cell_type": "code",
   "execution_count": null,
   "metadata": {},
   "outputs": [
    {
     "name": "stderr",
     "output_type": "stream",
     "text": [
      "$CIEL3.SA: possibly delisted; no timezone found\n"
     ]
    },
    {
     "name": "stdout",
     "output_type": "stream",
     "text": [
      "Erro ao processar CIEL3.SA: index 0 is out of bounds for axis 0 with size 0\n"
     ]
    }
   ],
   "source": [
    "data = dict()\n",
    "\n",
    "for ticket in tickets:\n",
    "\n",
    "    if download and transform:\n",
    "        try:\n",
    "\n",
    "            df = get_ticket(ticket)\n",
    "        except:\n",
    "            print(f\"Problemas para baixar dados de: {ticket}\")\n",
    "            continue\n",
    "    \n",
    "    elif transform:\n",
    "        df = pd.read_csv(f\"../data/raw/{ticket}.csv\", index_col=\"Date\")\n",
    "        df.index = pd.to_datetime(df.index)\n",
    "\n",
    "    if transform:\n",
    "\n",
    "            preprocessor = Pipeline(steps=[\n",
    "                # (\"Scaler\", MinMaxScaler(cols_list=[\"_Open\", \"_High\", \"_Low\", \"_Close\"])),\n",
    "                (\"SMA\", SimpleMovingAverage(short=21, middle=56, long=140, graphic=False)),\n",
    "                (\"RSI/IFR\", RelativeStrengthIndex(window=14, graphic=False)),\n",
    "                (\"AO\", AwesomeOscillator(short=5, long=34, graphic=False)),\n",
    "                (\"MACD\", MovingAverageConvergenceDivergence(short=12, long=26, signal=9, graphic=False)),\n",
    "                (\"ADX/DMI\", AverageDirectionalIndex(window=14, threshold=20, graphic=False)),\n",
    "                # (\"OBV\", OnBalanceVolume()), # Transformar num sinal!\n",
    "                (\"BB\", BollingerBands(window=40, entry_threshold=0.5, out_tp_threshold=1.5, out_sl_threshold=0, graphic=False)),\n",
    "                (\"Ichimoku\", IchimokuClouds(window1=9, window2=26, window3=52, graphic=False)),\n",
    "                # (\"VWAP\", VolumeWeightedAveragePrice(graphic=False)),  # Transformar num sinal!\n",
    "                (\"Par.SAR\", ParabolicSAR(acceleration=0.02, maximum=0.2, graphic=False)),\n",
    "                (\"Aleatory\", Aleatory(lack_trend=150, graphic=False)),\n",
    "                (\"Trend\", Trend(short=21, long=140, graphic=False)),\n",
    "                (\"MakeTimeSeries\", MakeTimeSeries(window=5, indicators=None)) # indicators=['SMA', ...]\n",
    "            ])\n",
    "\n",
    "            try:\n",
    "                _ = preprocessor.fit(df)\n",
    "                data[ticket] = preprocessor.transform(df)\n",
    "                os.makedirs(\"../data/raw\", exist_ok=True)\n",
    "                os.makedirs(\"../data/preprocessed\", exist_ok=True)\n",
    "                df.to_csv(f\"../data/raw/{ticket}.csv\", index=True)\n",
    "                data[ticket].to_csv(f\"../data/preprocessed/{ticket}.csv\", index=True)\n",
    "                \n",
    "            except Exception as e:\n",
    "                print(f\"Erro ao processar {ticket}: {e}\")\n",
    "                continue\n",
    "\n",
    "    else:\n",
    "        data[ticket] = pd.read_csv(f\"../data/preprocessed/{ticket}.csv\", index_col=\"Date\")\n",
    "        data[ticket].index = pd.to_datetime(data[ticket].index)\n",
    "\n",
    "if transform:\n",
    "    merge = pd.DataFrame()\n",
    "\n",
    "    for ticket in tickets:\n",
    "        merge = pd.concat([merge , data[ticket]])\n",
    "\n",
    "    merge.sort_index(ascending=True, inplace=True)\n",
    "    merge.to_csv(\"../data/merge.csv\", index=True)\n",
    "\n",
    "else:\n",
    "    merge = pd.read_csv(\"../data/merge.csv\", index_col=\"Date\")\n",
    "    merge.index = pd.to_datetime(merge.index)"
   ]
  },
  {
   "cell_type": "markdown",
   "metadata": {},
   "source": [
    "### Build Agent"
   ]
  },
  {
   "cell_type": "code",
   "execution_count": null,
   "metadata": {},
   "outputs": [],
   "source": [
    "despise = ['_Open', '_High', '_Low', '_Close', '_Volume', 'Aleatory D-0']"
   ]
  },
  {
   "cell_type": "code",
   "execution_count": null,
   "metadata": {},
   "outputs": [],
   "source": [
    "agent = Agent_rf(data = data[tickets[0]], drop_intersection_time_series = 5, despise = despise, info=False)\n",
    "# agent = Agent_xgb(data = data[tickets[0]], drop_intersection_time_series = 5, despise = despise, info=False)\n",
    "# agent = Agent_nn(data = data[tickets[0]], drop_intersection_time_series = 5, despise = despise, info=False)"
   ]
  },
  {
   "cell_type": "code",
   "execution_count": null,
   "metadata": {},
   "outputs": [],
   "source": [
    "# XG Boost\n",
    "# agent.load(\"xgBoost 12-05-24 10h51min\", path=\"../saved/\")"
   ]
  },
  {
   "cell_type": "code",
   "execution_count": null,
   "metadata": {},
   "outputs": [],
   "source": [
    "# ## NN\n",
    "# agent.load(\"neuralNetwork 12-05-24 03h16min\", path=\"../saved/\")"
   ]
  },
  {
   "cell_type": "code",
   "execution_count": null,
   "metadata": {},
   "outputs": [],
   "source": [
    "# ## RF\n",
    "agent.load(\"randomForest 17-05-24 17h12min\", path=\"../saved/\")"
   ]
  },
  {
   "cell_type": "markdown",
   "metadata": {},
   "source": [
    "##### Companies"
   ]
  },
  {
   "cell_type": "code",
   "execution_count": null,
   "metadata": {},
   "outputs": [],
   "source": [
    "companies_naive = [{\n",
    "        \"ticket\": ticket,\n",
    "        \"data\": data[ticket],\n",
    "        \"signals\": {\n",
    "            \"SMA D-0\": {\"policy\": {\"entry\": lambda signal: signal > 0.5, \"out\": lambda signal: signal <= 0.5}, \"delay\": 5},\n",
    "            \"RSI D-0\": {\"policy\": {\"entry\": lambda signal: signal < 30, \"out\": lambda signal: signal > 70}, \"delay\": 5},\n",
    "            \"AO D-0\": {\"policy\": {\"entry\": lambda signal: signal > 0, \"out\": lambda signal: signal <= 0}, \"delay\": 5},\n",
    "            \"MACD D-0\": {\"policy\": {\"entry\": lambda signal: signal > 0, \"out\": lambda signal: signal <= 0}, \"delay\": 5},\n",
    "            \"ADX D-0\": {\"policy\": {\"entry\": lambda signal: signal > 0.5, \"out\": lambda signal: signal <= 0.5}, \"delay\": 5},\n",
    "            \"BB D-0\": {\"policy\": {\"entry\": lambda signal: signal > 0.5, \"out\": lambda signal: signal <= 0.5}, \"delay\": 5},\n",
    "            \"Ichimoku D-0\": {\"policy\": {\"entry\": lambda signal: signal > 0.5, \"out\": lambda signal: signal <= 0}, \"delay\": 5},\n",
    "            \"pSAR_ind D-0\": {\"policy\": {\"entry\": lambda signal: signal > 0, \"out\": lambda signal: signal <= 0}, \"delay\": 5},\n",
    "            \"Aleatory D-0\": {\"policy\": {\"entry\": lambda signal: signal > 0.5, \"out\": lambda signal: signal <= 0}, \"delay\": 5}\n",
    "        }\n",
    "    } for ticket in tickets]"
   ]
  },
  {
   "cell_type": "markdown",
   "metadata": {},
   "source": [
    "### Naive Policy"
   ]
  },
  {
   "cell_type": "code",
   "execution_count": null,
   "metadata": {},
   "outputs": [],
   "source": [
    "result_naive = agent.naive_choice_market(companies_naive, return_df=True)"
   ]
  },
  {
   "cell_type": "code",
   "execution_count": null,
   "metadata": {},
   "outputs": [],
   "source": [
    "result_naive_pivot = result_naive.pivot(index=\"Ativo\", columns='Signal', values='Return (% a.a.)').reset_index()\n",
    "result_naive_pivot['Mean'] = result_naive_pivot.iloc[:, 1:].mean(axis=1)\n",
    "result_naive_pivot = result_naive_pivot.sort_values(by=\"Mean\", ascending=False)\n",
    "result_naive_pivot"
   ]
  },
  {
   "cell_type": "code",
   "execution_count": null,
   "metadata": {},
   "outputs": [],
   "source": [
    "fig, ax = plt.subplots(figsize=(12, 5), dpi=100)\n",
    "\n",
    "sns.kdeplot(data=result_naive_pivot, x=\"SMA D-0\", fill=True, label=\"Simple Moving Average\", common_norm=False, palette=\"crest\", alpha=.3, linewidth=1, linestyle='--', legend=True, ax=ax)\n",
    "sns.kdeplot(data=result_naive_pivot, x=\"RSI D-0\", fill=True, label=\"Relative Strength Index\", common_norm=False, palette=\"crest\", alpha=.3, linewidth=1, linestyle='-.', legend=True, ax=ax)\n",
    "sns.kdeplot(data=result_naive_pivot, x=\"AO D-0\", fill=True, label=\"Awesome Oscillator\", common_norm=False, palette=\"crest\", alpha=.3, linewidth=1, linestyle='-.', legend=True, ax=ax)\n",
    "sns.kdeplot(data=result_naive_pivot, x=\"MACD D-0\", fill=True, label=\"Moving Average Convergence Divergence\", common_norm=False, palette=\"crest\", alpha=.3, linewidth=1, linestyle='-', legend=True, ax=ax)\n",
    "sns.kdeplot(data=result_naive_pivot, x=\"ADX D-0\", fill=True, label=\"Average Directional Index\", common_norm=False, palette=\"crest\", alpha=.3, linewidth=1, linestyle='-', legend=True, ax=ax)\n",
    "sns.kdeplot(data=result_naive_pivot, x=\"BB D-0\", fill=True, label=\"Bollinger Bands\", common_norm=False, palette=\"crest\", alpha=.3, linewidth=1, linestyle=':', legend=True, ax=ax)\n",
    "sns.kdeplot(data=result_naive_pivot, x=\"Ichimoku D-0\", fill=True, label=\"Ichimoku Clouds\", common_norm=False, palette=\"crest\", alpha=.3, linewidth=1, linestyle='--', legend=True, ax=ax)\n",
    "sns.kdeplot(data=result_naive_pivot, x=\"pSAR_ind D-0\", fill=True, label=\"Parabolic SAR\", common_norm=False, palette=\"crest\", alpha=.3, linewidth=1, linestyle=':', legend=True, ax=ax)\n",
    "sns.kdeplot(data=result_naive_pivot, x=\"Aleatory D-0\", fill=False, label=\"Aleatory\", common_norm=False, color='red', alpha=1, linewidth=2, linestyle='--', legend=True, ax=ax)\n",
    "ax.axvline(x=result_naive_pivot.iloc[:, 1:-1].mean(axis=0)['Aleatory D-0'], color='red', linestyle='--', linewidth=2, alpha=0.5)\n",
    "\n",
    "plt.title(\"Retorno (% a.a.)\")\n",
    "plt.xlabel(\"Retorno (% a.a.)\")\n",
    "plt.legend()\n",
    "plt.tight_layout()\n",
    "plt.plot()"
   ]
  },
  {
   "cell_type": "code",
   "execution_count": null,
   "metadata": {},
   "outputs": [],
   "source": [
    "result_naive_pivot.iloc[:, 1:-1].mean(axis=0)"
   ]
  },
  {
   "cell_type": "code",
   "execution_count": null,
   "metadata": {},
   "outputs": [],
   "source": [
    "# fig, ax = plt.subplots(figsize=(10, len(result_naive_pivot)), dpi=100)\n",
    "\n",
    "# sns.barplot(result_naive, x='Return (% a.a.)', y='Ativo', hue='Signal', ax=ax)\n",
    "# ax.axvline(x=-15, color='red', linestyle='--', linewidth=1.5, alpha=0.3)\n",
    "# ax.axvline(x=-10, color='red', linestyle='--', linewidth=1.0, alpha=0.3)\n",
    "# ax.axvline(x=-5, color='red', linestyle='--', linewidth=0.5, alpha=0.3)\n",
    "# ax.axvline(x=0, color='gray', linestyle='--', linewidth=0.5)\n",
    "# ax.axvline(x=5, color='green', linestyle='--', linewidth=0.5, alpha=0.3)\n",
    "# ax.axvline(x=10, color='green', linestyle='--', linewidth=1, alpha=0.3)\n",
    "# ax.axvline(x=15, color='green', linestyle='--', linewidth=1.5, alpha=0.3)\n",
    "\n",
    "# plt.title(\"Retorno (% a.a.)\")\n",
    "# plt.ylabel(\"Ativo\")\n",
    "# plt.xlabel(\"Retorno (% a.a.)\")\n",
    "# plt.legend()\n",
    "# plt.tight_layout()\n",
    "# plt.plot()"
   ]
  },
  {
   "cell_type": "code",
   "execution_count": null,
   "metadata": {},
   "outputs": [],
   "source": [
    "correlation_matrix = merge.iloc[:, 5:].corr()\n",
    "\n",
    "mask = np.triu(np.ones_like(correlation_matrix, dtype=bool))\n",
    "plt.figure(figsize=(10, 6), dpi=100) \n",
    "plt.title(\"Correlation Matrix\", fontsize=20, fontweight='bold')\n",
    "sns.heatmap(correlation_matrix, annot=True, fmt=\".2f\", cmap=\"coolwarm\", vmin=1, vmax=-1, mask=mask, annot_kws={'size': 5})\n",
    "plt.xticks(rotation=45, ha='right')\n",
    "plt.show()"
   ]
  },
  {
   "cell_type": "markdown",
   "metadata": {},
   "source": [
    "### Manual Policy"
   ]
  },
  {
   "cell_type": "code",
   "execution_count": null,
   "metadata": {},
   "outputs": [],
   "source": [
    "companies_manual = [{\n",
    "        \"ticket\": ticket,\n",
    "        \"data\": data[ticket],\n",
    "        \"signals\": {\n",
    "            \"SMA D-0\": {\"policy\": {\"entry\": lambda signal: signal > 0.5, \"out\": lambda signal: signal <= 0.5}},\n",
    "            \"RSI D-0\": {\"policy\": {\"entry\": lambda signal: signal < 30, \"out\": lambda signal: signal > 70}},\n",
    "            \"AO D-0\": {\"policy\": {\"entry\": lambda signal: signal > 0, \"out\": lambda signal: signal <= 0}},\n",
    "            \"MACD D-0\": {\"policy\": {\"entry\": lambda signal: signal > 0, \"out\": lambda signal: signal <= 0}},\n",
    "            \"ADX D-0\": {\"policy\": {\"entry\": lambda signal: signal > 0.5, \"out\": lambda signal: signal <= 0.5}},\n",
    "            \"BB D-0\": {\"policy\": {\"entry\": lambda signal: signal > 0.5, \"out\": lambda signal: signal <= 0.5}},\n",
    "            \"Ichimoku D-0\": {\"policy\": {\"entry\": lambda signal: signal > 0.5, \"out\": lambda signal: signal <= 0}},\n",
    "            \"pSAR_ind D-0\": {\"policy\": {\"entry\": lambda signal: signal > 0, \"out\": lambda signal: signal <= 0}}\n",
    "        },\n",
    "        \"delay\": 2,\n",
    "        \"min_entry\": 3,\n",
    "        \"min_out\": 3\n",
    "    } for ticket in tickets]"
   ]
  },
  {
   "cell_type": "code",
   "execution_count": null,
   "metadata": {},
   "outputs": [],
   "source": [
    "result_manual = agent.combined_choice_market(companies_manual, return_df=True)"
   ]
  },
  {
   "cell_type": "code",
   "execution_count": null,
   "metadata": {},
   "outputs": [],
   "source": [
    "fig, ax = plt.subplots(figsize=(12, 5), dpi=100)\n",
    "\n",
    "sns.kdeplot(data=result_manual, x=\"Return (% a.a.)\", fill=True, label=result_manual['Signal'][0], common_norm=False, palette=\"crest\", alpha=.3, linewidth=1, legend=True, ax=ax)\n",
    "ax.axvline(x=0, color='red', linestyle='--', linewidth=2, alpha=0.5)\n",
    "\n",
    "plt.title(\"Retorno (% a.a.)\")\n",
    "plt.xlabel(\"Retorno (% a.a.)\")\n",
    "plt.legend()\n",
    "plt.tight_layout()\n",
    "plt.plot()"
   ]
  },
  {
   "cell_type": "markdown",
   "metadata": {},
   "source": [
    "### AI Policy"
   ]
  },
  {
   "cell_type": "code",
   "execution_count": null,
   "metadata": {},
   "outputs": [],
   "source": [
    "companies_ai = [{\"ticket\": ticket, \"data\": data[ticket], \"delay\": 1} for ticket in tickets]"
   ]
  },
  {
   "cell_type": "code",
   "execution_count": null,
   "metadata": {},
   "outputs": [],
   "source": [
    "result_ai = agent.ai_choice_market(companies_ai, return_df=True)"
   ]
  },
  {
   "cell_type": "code",
   "execution_count": null,
   "metadata": {},
   "outputs": [],
   "source": [
    "fig, ax = plt.subplots(figsize=(12, 5), dpi=100)\n",
    "\n",
    "sns.kdeplot(data=result_ai, x=\"Return (% a.a.)\", fill=True, label=result_ai['Signal'][0], common_norm=False, palette=\"crest\", alpha=.3, linewidth=1, legend=True, ax=ax)\n",
    "ax.axvline(x=0, color='red', linestyle='--', linewidth=2, alpha=0.5)\n",
    "\n",
    "plt.title(\"Retorno (% a.a.)\")\n",
    "plt.xlabel(\"Retorno (% a.a.)\")\n",
    "plt.legend()\n",
    "plt.tight_layout()\n",
    "plt.plot()"
   ]
  },
  {
   "cell_type": "code",
   "execution_count": null,
   "metadata": {},
   "outputs": [],
   "source": [
    "result_ai[result_ai['Return (% a.a.)'] > 19.5]"
   ]
  },
  {
   "cell_type": "code",
   "execution_count": null,
   "metadata": {},
   "outputs": [],
   "source": []
  }
 ],
 "metadata": {
  "kernelspec": {
   "display_name": "Python 3",
   "language": "python",
   "name": "python3"
  },
  "language_info": {
   "codemirror_mode": {
    "name": "ipython",
    "version": 3
   },
   "file_extension": ".py",
   "mimetype": "text/x-python",
   "name": "python",
   "nbconvert_exporter": "python",
   "pygments_lexer": "ipython3",
   "version": "3.9.21"
  }
 },
 "nbformat": 4,
 "nbformat_minor": 2
}
