{
 "cells": [
  {
   "cell_type": "code",
   "execution_count": null,
   "metadata": {},
   "outputs": [],
   "source": [
    "import pandas as pd\n",
    "import numpy as np\n",
    "import matplotlib.pyplot as plt\n",
    "import seaborn as sns\n",
    "from sklearn.pipeline import Pipeline\n",
    "\n",
    "# import sys\n",
    "# from pathlib import Path\n",
    "# sys.path.append(str(Path().cwd().parent))\n",
    "\n",
    "from utils import MinMaxScaler, get_ticket, MakeTimeSeries\n",
    "from agent import Agent_xgb\n",
    "\n",
    "from indicators import *"
   ]
  },
  {
   "cell_type": "code",
   "execution_count": null,
   "metadata": {},
   "outputs": [],
   "source": [
    "data = get_ticket(\"MGLU3.SA\")\n",
    "# data = get_ticket(\"VALE3.SA\")\n",
    "# data = data[-252:]"
   ]
  },
  {
   "cell_type": "code",
   "execution_count": null,
   "metadata": {},
   "outputs": [],
   "source": [
    "data.head()"
   ]
  },
  {
   "cell_type": "code",
   "execution_count": null,
   "metadata": {},
   "outputs": [],
   "source": [
    "preprocessor = Pipeline(steps=[\n",
    "    # (\"Scaler\", MinMaxScaler(cols_list=[\"_Open\", \"_High\", \"_Low\", \"_Close\"])),\n",
    "    (\"SMA\", SimpleMovingAverage(short=7, middle=23, long=71, graphic=True)),\n",
    "    (\"RSI/IFR\", RelativeStrengthIndex(window=14, graphic=True)),\n",
    "    (\"AO\", AwesomeOscillator(short=5, long=34, graphic=True)),\n",
    "    (\"MACD\", MovingAverageConvergenceDivergence(short=12, long=26, signal=9, graphic=True)),\n",
    "    (\"ADX/DMI\", AverageDirectionalIndex(window=14, threshold=20, graphic=True)),\n",
    "    # (\"OBV\", OnBalanceVolume()), # Transformar num sinal!\n",
    "    (\"BB\", BollingerBands(window=40, entry_threshold=0.5, out_tp_threshold=1.5, out_sl_threshold=0, graphic=True)),\n",
    "    (\"Ichimoku\", IchimokuClouds(window1=9, window2=26, window3=52, graphic=True)),\n",
    "    # (\"VWAP\", VolumeWeightedAveragePrice(graphic=True)),  # Transformar num sinal!\n",
    "    (\"Par.SAR\", ParabolicSAR(acceleration=0.02, maximum=0.2, graphic=True)),\n",
    "    (\"Aleatory\", Aleatory(lack_trend=150, graphic=True)),\n",
    "    (\"Trend\", Trend(short=23, long=71, graphic=True)),\n",
    "    (\"MakeTimeSeries\", MakeTimeSeries(window=1, indicators=None)) # indicators=['SMA', ...]\n",
    "])"
   ]
  },
  {
   "cell_type": "code",
   "execution_count": null,
   "metadata": {},
   "outputs": [],
   "source": [
    "_ = preprocessor.fit(data)\n",
    "data_preprocessed = preprocessor.transform(data)"
   ]
  },
  {
   "cell_type": "code",
   "execution_count": null,
   "metadata": {},
   "outputs": [],
   "source": [
    "data_preprocessed.head()"
   ]
  },
  {
   "cell_type": "code",
   "execution_count": null,
   "metadata": {},
   "outputs": [],
   "source": [
    "sample = data_preprocessed.iloc[-500:].copy()\n",
    "data_preprocessed.drop(sample.index, inplace=True)"
   ]
  },
  {
   "cell_type": "code",
   "execution_count": null,
   "metadata": {},
   "outputs": [],
   "source": [
    "sample.sample(5)"
   ]
  },
  {
   "cell_type": "code",
   "execution_count": null,
   "metadata": {},
   "outputs": [],
   "source": []
  },
  {
   "cell_type": "code",
   "execution_count": null,
   "metadata": {},
   "outputs": [],
   "source": [
    "despise = ['_Open', '_High', '_Low', '_Close', '_Volume', 'Aleatory D-0']\n",
    "# despise = ['_Open', '_High', '_Low', '_Close', '_Volume', 'Aleatory D-0', 'Aleatory D-1', 'Aleatory D-2', 'Aleatory D-3', 'Aleatory D-4', 'Aleatory D-5']"
   ]
  },
  {
   "cell_type": "code",
   "execution_count": null,
   "metadata": {},
   "outputs": [],
   "source": [
    "agent = Agent_xgb(data = data_preprocessed, drop_intersection_time_series = None, despise = despise)"
   ]
  },
  {
   "cell_type": "markdown",
   "metadata": {},
   "source": [
    "### Results Optimum"
   ]
  },
  {
   "cell_type": "code",
   "execution_count": null,
   "metadata": {},
   "outputs": [],
   "source": [
    "agent.optimum_choice(data_preprocessed)"
   ]
  },
  {
   "cell_type": "markdown",
   "metadata": {},
   "source": [
    "### Naive Choice"
   ]
  },
  {
   "cell_type": "markdown",
   "metadata": {},
   "source": [
    "##### Aleatory"
   ]
  },
  {
   "cell_type": "code",
   "execution_count": null,
   "metadata": {},
   "outputs": [],
   "source": [
    "agent.naive_choice(data_preprocessed, signal=\"Aleatory D-0\", policy={\"entry\": lambda signal: signal > 0.5, \"out\": lambda signal: signal <= 0.5})"
   ]
  },
  {
   "cell_type": "markdown",
   "metadata": {},
   "source": [
    "##### SMA"
   ]
  },
  {
   "cell_type": "code",
   "execution_count": null,
   "metadata": {},
   "outputs": [],
   "source": [
    "bigger = - np.inf\n",
    "\n",
    "for entry in np.linspace(0, 1, 21):\n",
    "    for out in np.linspace(0, 1, 21):\n",
    "    \n",
    "        profit = agent.naive_choice(data_preprocessed, signal=\"SMA D-0\", policy={\"entry\": lambda signal: signal > entry, \"out\": lambda signal: signal <= out}, graphic=False)\n",
    "        # print(f\"Profit: {profit:.2f} with Entry: {entry:.2f}, Out: {out:.2f}\")\n",
    "        if profit > bigger:\n",
    "            bigger = profit\n",
    "            print(f\"\\nNew best: {bigger:.2f} with Entry: {entry:.2f}, Out: {out:.2f}\\n\\n\")\n",
    "            "
   ]
  },
  {
   "cell_type": "code",
   "execution_count": null,
   "metadata": {},
   "outputs": [],
   "source": [
    "profit = agent.naive_choice(data_preprocessed, signal=\"SMA D-0\", policy={\"entry\": lambda signal: signal > 0, \"out\": lambda signal: signal <= 0})"
   ]
  },
  {
   "cell_type": "code",
   "execution_count": null,
   "metadata": {},
   "outputs": [],
   "source": [
    "profit = agent.naive_choice(sample, signal=\"SMA D-0\", policy={\"entry\": lambda signal: signal > 0, \"out\": lambda signal: signal <= 0})"
   ]
  },
  {
   "cell_type": "markdown",
   "metadata": {},
   "source": [
    "##### RSI"
   ]
  },
  {
   "cell_type": "code",
   "execution_count": null,
   "metadata": {},
   "outputs": [],
   "source": [
    "bigger = - np.inf\n",
    "\n",
    "for entry in np.linspace(0, 100, 21):\n",
    "    for out in np.linspace(0, 100, 21):\n",
    "    \n",
    "        profit = agent.naive_choice(data_preprocessed, signal=\"RSI D-0\", policy={\"entry\": lambda signal: signal < entry, \"out\": lambda signal: signal > out}, graphic=False)\n",
    "        # print(f\"Profit: {profit:.2f} with Entry: {entry:.2f}, Out: {out:.2f}\")\n",
    "        if profit > bigger:\n",
    "            bigger = profit\n",
    "            print(f\"\\nNew best: {bigger:.2f} with Entry: {entry:.2f}, Out: {out:.2f}\\n\\n\")\n",
    "            "
   ]
  },
  {
   "cell_type": "code",
   "execution_count": null,
   "metadata": {},
   "outputs": [],
   "source": [
    "agent.naive_choice(data_preprocessed, signal=\"RSI D-0\", policy={\"entry\": lambda signal: signal < 5, \"out\": lambda signal: signal > 80})"
   ]
  },
  {
   "cell_type": "code",
   "execution_count": null,
   "metadata": {},
   "outputs": [],
   "source": [
    "agent.naive_choice(data_preprocessed, signal=\"RSI D-0\", policy={\"entry\": lambda signal: signal < 5, \"out\": lambda signal: signal > 80})"
   ]
  },
  {
   "cell_type": "markdown",
   "metadata": {},
   "source": [
    "##### AO"
   ]
  },
  {
   "cell_type": "code",
   "execution_count": null,
   "metadata": {},
   "outputs": [],
   "source": [
    "bigger = - np.inf\n",
    "\n",
    "for entry in np.linspace(0, 100, 21):\n",
    "    for out in np.linspace(0, 100, 21):\n",
    "    \n",
    "        profit = agent.naive_choice(data_preprocessed, signal=\"AO D-0\", policy={\"entry\": lambda signal: signal > entry, \"out\": lambda signal: signal <= out}, graphic=False)\n",
    "        # print(f\"Profit: {profit:.2f} with Entry: {entry:.2f}, Out: {out:.2f}\")\n",
    "        if profit > bigger:\n",
    "            bigger = profit\n",
    "            print(f\"\\nNew best: {bigger:.2f} with Entry: {entry:.2f}, Out: {out:.2f}\\n\\n\")\n",
    "            "
   ]
  },
  {
   "cell_type": "code",
   "execution_count": null,
   "metadata": {},
   "outputs": [],
   "source": [
    "agent.naive_choice(data_preprocessed, signal=\"AO D-0\", policy={\"entry\": lambda signal: signal > 0, \"out\": lambda signal: signal <= 0})"
   ]
  },
  {
   "cell_type": "code",
   "execution_count": null,
   "metadata": {},
   "outputs": [],
   "source": [
    "agent.naive_choice(sample, signal=\"AO D-0\", policy={\"entry\": lambda signal: signal > 0, \"out\": lambda signal: signal <= 0})"
   ]
  },
  {
   "cell_type": "markdown",
   "metadata": {},
   "source": [
    "##### MACD"
   ]
  },
  {
   "cell_type": "code",
   "execution_count": null,
   "metadata": {},
   "outputs": [],
   "source": [
    "agent.naive_choice(data_preprocessed, signal=\"MACD D-0\", policy={\"entry\": lambda signal: signal > 0, \"out\": lambda signal: signal <= 0})"
   ]
  },
  {
   "cell_type": "markdown",
   "metadata": {},
   "source": [
    "##### ADX"
   ]
  },
  {
   "cell_type": "code",
   "execution_count": null,
   "metadata": {},
   "outputs": [],
   "source": [
    "agent.naive_choice(data_preprocessed, signal=\"ADX D-0\", policy={\"entry\": lambda signal: signal > 0.5, \"out\": lambda signal: signal <= 0.5})"
   ]
  },
  {
   "cell_type": "markdown",
   "metadata": {},
   "source": [
    "##### BB"
   ]
  },
  {
   "cell_type": "code",
   "execution_count": null,
   "metadata": {},
   "outputs": [],
   "source": [
    "agent.naive_choice(data_preprocessed, signal=\"BB D-0\", policy={\"entry\": lambda signal: signal > 0.5, \"out\": lambda signal: signal <= 0.5})"
   ]
  },
  {
   "cell_type": "markdown",
   "metadata": {},
   "source": [
    "##### Ichimoku"
   ]
  },
  {
   "cell_type": "code",
   "execution_count": null,
   "metadata": {},
   "outputs": [],
   "source": [
    "agent.naive_choice(data_preprocessed, signal=\"Ichimoku D-0\", policy={\"entry\": lambda signal: signal > 0.5, \"out\": lambda signal: signal <= 0})"
   ]
  },
  {
   "cell_type": "markdown",
   "metadata": {},
   "source": [
    "##### Parabolic SAR"
   ]
  },
  {
   "cell_type": "code",
   "execution_count": null,
   "metadata": {},
   "outputs": [],
   "source": [
    "agent.naive_choice(data_preprocessed, signal=\"pSAR_ind D-0\", policy={\"entry\": lambda signal: signal > 0, \"out\": lambda signal: signal <= 0.001})"
   ]
  },
  {
   "cell_type": "markdown",
   "metadata": {},
   "source": [
    "##### Optimization and Fit"
   ]
  },
  {
   "cell_type": "code",
   "execution_count": null,
   "metadata": {},
   "outputs": [],
   "source": [
    "agent.optimizer(n_trials=5)"
   ]
  },
  {
   "cell_type": "code",
   "execution_count": null,
   "metadata": {},
   "outputs": [],
   "source": [
    "agent.fit(path=\"../saved\")"
   ]
  },
  {
   "cell_type": "code",
   "execution_count": null,
   "metadata": {},
   "outputs": [],
   "source": [
    "agent.feature_importances()"
   ]
  },
  {
   "cell_type": "markdown",
   "metadata": {},
   "source": [
    "### Real Result"
   ]
  },
  {
   "cell_type": "code",
   "execution_count": null,
   "metadata": {},
   "outputs": [],
   "source": [
    "results = agent.predict(sample, path=\"../\", return_df=True)"
   ]
  },
  {
   "cell_type": "markdown",
   "metadata": {},
   "source": []
  }
 ],
 "metadata": {
  "kernelspec": {
   "display_name": "Python 3",
   "language": "python",
   "name": "python3"
  },
  "language_info": {
   "codemirror_mode": {
    "name": "ipython",
    "version": 3
   },
   "file_extension": ".py",
   "mimetype": "text/x-python",
   "name": "python",
   "nbconvert_exporter": "python",
   "pygments_lexer": "ipython3",
   "version": "3.9.21"
  }
 },
 "nbformat": 4,
 "nbformat_minor": 2
}
